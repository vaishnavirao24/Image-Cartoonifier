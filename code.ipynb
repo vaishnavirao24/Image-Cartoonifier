{
 "cells": [
  {
   "cell_type": "code",
   "execution_count": 38,
   "metadata": {},
   "outputs": [
    {
     "name": "stdout",
     "output_type": "stream",
     "text": [
      "Requirement already satisfied: easygui in c:\\python312\\lib\\site-packages (0.98.3)\n",
      "Requirement already satisfied: imageio in c:\\python312\\lib\\site-packages (2.37.0)\n",
      "Requirement already satisfied: numpy in c:\\python312\\lib\\site-packages (from imageio) (1.26.4)\n",
      "Requirement already satisfied: pillow>=8.3.2 in c:\\python312\\lib\\site-packages (from imageio) (10.3.0)\n"
     ]
    },
    {
     "name": "stderr",
     "output_type": "stream",
     "text": [
      "\n",
      "[notice] A new release of pip is available: 24.1 -> 25.0\n",
      "[notice] To update, run: python.exe -m pip install --upgrade pip\n"
     ]
    }
   ],
   "source": [
    "import sys\n",
    "!{sys.executable} -m pip install easygui imageio\n",
    "import cv2 #for image processing\n",
    "import easygui #to open the filebox\n",
    "import numpy as np #to store image\n",
    "import imageio #to read image stored at particular path\n",
    "import sys\n",
    "import matplotlib.pyplot as plt\n",
    "import os\n",
    "import tkinter as tk\n",
    "from tkinter import filedialog\n",
    "from tkinter import *\n",
    "from PIL import ImageTk, Image"
   ]
  },
  {
   "cell_type": "code",
   "execution_count": 39,
   "metadata": {},
   "outputs": [],
   "source": [
    "\"\"\" fileopenbox opens the box to choose file\n",
    "and help us store file path as string \"\"\"\n",
    "def upload():\n",
    "    global ImagePath\n",
    "    ImagePath = easygui.fileopenbox()\n",
    "    cartoonify(ImagePath)"
   ]
  },
  {
   "cell_type": "code",
   "execution_count": 40,
   "metadata": {},
   "outputs": [],
   "source": [
    "def cartoonify(ImagePath):\n",
    "    #read the image\n",
    "    originalImage = cv2.imread(ImagePath)\n",
    "    originalImage = cv2.cvtColor(originalImage, cv2.COLOR_BGR2RGB)\n",
    "    #print(image)  # image is stored in form of numbers\n",
    "\n",
    "    # confirm that image is chosen\n",
    "    if originalImage is None:\n",
    "        print(\"Can not find any image. Choose appropriate file\")\n",
    "        sys.exit()\n",
    "\n",
    "    ReSized1 = cv2.resize(originalImage, (960, 540))\n",
    "    #plt.imshow(ReSized1, cmap='gray')\n",
    "\n",
    "    #converting an image to grayscale\n",
    "    grayScaleImage = cv2.cvtColor(originalImage, cv2.COLOR_BGR2GRAY)\n",
    "    ReSized2 = cv2.resize(grayScaleImage, (960, 540))\n",
    "    #plt.imshow(ReSized2, cmap='gray')\n",
    "\n",
    "    #applying median blur to smoothen an image\n",
    "    smoothGrayScale = cv2.medianBlur(grayScaleImage, 5)\n",
    "    ReSized3 = cv2.resize(smoothGrayScale, (960, 540))\n",
    "    #plt.imshow(ReSized3, cmap='gray')\n",
    "\n",
    "    #retrieving the edges for cartoon effect\n",
    "    #by using thresholding technique\n",
    "    getEdge = cv2.adaptiveThreshold(smoothGrayScale, 255, \n",
    "      cv2.ADAPTIVE_THRESH_MEAN_C, \n",
    "      cv2.THRESH_BINARY, 9, 9)\n",
    "\n",
    "    ReSized4 = cv2.resize(getEdge, (960, 540))\n",
    "    #plt.imshow(ReSized4, cmap='gray')\n",
    "\n",
    "    #applying bilateral filter to remove noise \n",
    "    #and keep edge sharp as required\n",
    "    colorImage = cv2.bilateralFilter(originalImage, 9, 300, 300)\n",
    "    ReSized5 = cv2.resize(colorImage, (960, 540))\n",
    "    #plt.imshow(ReSized5, cmap='gray')\n",
    "\n",
    "    #masking edged image with our \"BEAUTIFY\" image\n",
    "    cartoonImage = cv2.bitwise_and(colorImage, colorImage, mask=getEdge)\n",
    "\n",
    "    ReSized6 = cv2.resize(cartoonImage, (960, 540))\n",
    "    #plt.imshow(ReSized6, cmap='gray')\n",
    "\n",
    "    # Plotting the whole transition\n",
    "    images=[ReSized1, ReSized2, ReSized3, ReSized4, ReSized5, ReSized6]\n",
    "    fig, axes = plt.subplots(3,2, figsize=(8,8), subplot_kw={'xticks':[], 'yticks':[]}, gridspec_kw=dict(hspace=0.1, wspace=0.1))\n",
    "    for i, ax in enumerate(axes.flat):\n",
    "        ax.imshow(images[i], cmap='gray')\n",
    "    # save button code\n",
    "    plt.show()"
   ]
  },
  {
   "cell_type": "code",
   "execution_count": 41,
   "metadata": {},
   "outputs": [],
   "source": [
    "def save(ReSized6, ImagePath):\n",
    "    #saving an image using imwrite()\n",
    "    newName=\"cartoonified_Image\"\n",
    "    path1 = os.path.dirname(ImagePath)\n",
    "    extension=os.path.splitext(ImagePath)[1]\n",
    "    path = os.path.join(path1, newName+extension)\n",
    "    cv2.imwrite(path, cv2.cvtColor(ReSized6, cv2.COLOR_RGB2BGR))\n",
    "    I = \"Image saved by name \" + newName +\" at \"+ path\n",
    "    tk.messagebox.showinfo(title=None, message=I)"
   ]
  },
  {
   "cell_type": "code",
   "execution_count": 42,
   "metadata": {},
   "outputs": [],
   "source": [
    "top=tk.Tk()\n",
    "top.geometry('400x400')\n",
    "top.title('Cartoonify Your Image !')\n",
    "top.configure(background='white')\n",
    "label=Label(top,background='#CDCDCD', font=('calibri',20,'bold'))"
   ]
  },
  {
   "cell_type": "code",
   "execution_count": 43,
   "metadata": {},
   "outputs": [],
   "source": [
    "upload=Button(top,text=\"Cartoonify an Image\",command=upload,padx=10,pady=5)\n",
    "upload.configure(background='#364156', foreground='white',font=('calibri',10,'bold'))\n",
    "upload.pack(side=TOP,pady=50)"
   ]
  },
  {
   "cell_type": "code",
   "execution_count": 44,
   "metadata": {},
   "outputs": [],
   "source": [
    "save1=Button(top,text=\"Save cartoon image\",command=lambda: save(ReSized6, ImagePath),padx=30,pady=5)\n",
    "save1.configure(background='#364156', foreground='white',font=('calibri',10,'bold'))\n",
    "save1.pack(side=TOP,pady=50)"
   ]
  },
  {
   "cell_type": "code",
   "execution_count": 45,
   "metadata": {},
   "outputs": [
    {
     "data": {},
     "metadata": {},
     "output_type": "display_data"
    },
    {
     "data": {},
     "metadata": {},
     "output_type": "display_data"
    }
   ],
   "source": [
    "top.mainloop()"
   ]
  }
 ],
 "metadata": {
  "language_info": {
   "name": "python"
  }
 },
 "nbformat": 4,
 "nbformat_minor": 2
}
